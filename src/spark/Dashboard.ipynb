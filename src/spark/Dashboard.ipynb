{
 "cells": [
  {
   "cell_type": "code",
   "execution_count": null,
   "metadata": {},
   "outputs": [],
   "source": [
    "import dash\n",
    "import dash_core_components as dcc\n",
    "import dash_html_components as html\n",
    "import os\n",
    "from pyspark import SparkContext,SparkConf\n",
    "from pyspark.sql import SQLContext\n",
    "\n",
    "# SPARK CONTEXT\n",
    "\n",
    "os.environ['PYSPARK_SUBMIT_ARGS'] = '--packages datastax:spark-cassandra-connector:2.0.6-s_2.11 --conf spark.cassandra.connection.host=172.17.0.2 pyspark-shell'\n",
    "\n",
    "conf = SparkConf()\n",
    "conf.setMaster(\"local[2]\")\n",
    "conf.setAppName(\"Cassandra crud test\")\n",
    "\n",
    "sc = SparkContext(conf=conf)\n",
    "sql = SQLContext(sc)\n",
    "\n",
    "# REGISTER EVENTS TABLE\n",
    "\n",
    "events = sql.read.format(\"org.apache.spark.sql.cassandra\").load(keyspace=\"sea\", table=\"events\")\n",
    "events.registerTempTable(\"events\")\n",
    "\n",
    "# RESULTSETS\n",
    "category_names = sql.sql(\"select category_name from events where category_name is not null group by category_name\").toPandas()\n",
    "\n",
    "app = dash.Dash()\n",
    "\n",
    "app.layout = html.Div(children=[\n",
    "    html.H1(children='Eventos de Segurança Pública'),\n",
    "\n",
    "    html.Div(children='''\n",
    "        Dash: A web application framework for Python.\n",
    "    '''),\n",
    "    dcc.Dropdown(id='events-state-category',\n",
    "                options=[{'label': i, 'value': i} for i in category_names['category_name']],\n",
    "                value=category_names['category_name'][0]),\n",
    "    dcc.Graph(id='events-state-graph')\n",
    "])\n",
    "\n",
    "@app.callback(\n",
    "    dash.dependencies.Output('events-state-graph', 'figure'),\n",
    "    [dash.dependencies.Input('events-state-category', 'value')])\n",
    "def update_graph(events_state_category):\n",
    "    events_state = sql.sql(\"select * from (select count(0) total, regexp_replace(state,'State of ','') rep_state from events where country = 'Brazil' and state is not null and category_name = '\"+events_state_category+\"' group by rep_state) order by total desc\").toPandas()\n",
    "    return {\n",
    "        'data': [\n",
    "            {'x': events_state['rep_state'], 'y': events_state['total'], 'type': 'bar', 'name': 'Sender'},\n",
    "        ],\n",
    "        'layout': {\n",
    "            'title': 'Eventos por Estados'\n",
    "        }\n",
    "    }\n",
    "\n",
    "\n",
    "if __name__ == '__main__':\n",
    "    app.run_server(debug=False,port=8050, host='172.17.0.3')"
   ]
  },
  {
   "cell_type": "code",
   "execution_count": null,
   "metadata": {},
   "outputs": [],
   "source": [
    " print([{'label': row, 'value': row} for row in category_names])"
   ]
  },
  {
   "cell_type": "code",
   "execution_count": null,
   "metadata": {},
   "outputs": [],
   "source": [
    " print([{'label': i, 'value': i} for i in category_names['category_name']])"
   ]
  },
  {
   "cell_type": "code",
   "execution_count": null,
   "metadata": {},
   "outputs": [],
   "source": []
  }
 ],
 "metadata": {
  "kernelspec": {
   "display_name": "Python 3",
   "language": "python",
   "name": "python3"
  },
  "language_info": {
   "codemirror_mode": {
    "name": "ipython",
    "version": 3
   },
   "file_extension": ".py",
   "mimetype": "text/x-python",
   "name": "python",
   "nbconvert_exporter": "python",
   "pygments_lexer": "ipython3",
   "version": "3.6.3"
  }
 },
 "nbformat": 4,
 "nbformat_minor": 2
}
