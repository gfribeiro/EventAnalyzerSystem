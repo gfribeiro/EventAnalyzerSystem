{
 "cells": [
  {
   "cell_type": "markdown",
   "metadata": {},
   "source": [
    "## Iniciar Contexto do Spark"
   ]
  },
  {
   "cell_type": "code",
   "execution_count": 1,
   "metadata": {},
   "outputs": [
    {
     "name": "stdout",
     "output_type": "stream",
     "text": [
      "Contexto Iniciado!\n"
     ]
    }
   ],
   "source": [
    "import os\n",
    "import time\n",
    "from pyspark import SparkContext,SparkConf\n",
    "from pyspark.sql import SQLContext\n",
    "\n",
    "os.environ['PYSPARK_SUBMIT_ARGS'] = '--packages datastax:spark-cassandra-connector:2.0.6-s_2.11 --conf spark.cassandra.connection.host=172.17.0.2 pyspark-shell'\n",
    "\n",
    "conf = SparkConf()\n",
    "conf.setMaster(\"local[*]\")\n",
    "conf.setAppName(\"Cassandra crud test\")\n",
    "\n",
    "sc = SparkContext(conf=conf)\n",
    "sql = SQLContext(sc)\n",
    "\n",
    "events = sql.read.format(\"org.apache.spark.sql.cassandra\").load(keyspace=\"sea\", table=\"events\")\n",
    "\n",
    "events.registerTempTable(\"events\")\n",
    "\n",
    "print(\"Contexto Iniciado!\")"
   ]
  },
  {
   "cell_type": "markdown",
   "metadata": {},
   "source": [
    "### Histograma - Eventos x Estado"
   ]
  },
  {
   "cell_type": "code",
   "execution_count": null,
   "metadata": {},
   "outputs": [],
   "source": [
    "events_state = sql.sql(\"select * from (select count(0) total, regexp_replace(state,'State of ','') rep_state, category_name from events where country = 'Brazil' and state is not null and category_name is not null and category_name not like 'Acidente' group by rep_state, category_name) order by total desc\")\n",
    "events_state.show()"
   ]
  },
  {
   "cell_type": "markdown",
   "metadata": {},
   "source": [
    "### Linhas Eventos por Mês - Ultimos 30 dias"
   ]
  },
  {
   "cell_type": "code",
   "execution_count": null,
   "metadata": {},
   "outputs": [],
   "source": [
    "events_last_month = sql.sql(\"select * from (select count(0) total, from_unixtime(timestamp_ms/1000,'yyyy-MM-dd') event_date, category_name from events where country = 'Brazil' and category_name is not null and category_name not like 'Acidente' group by event_date, category_name) order by event_date asc\")\n",
    "events_last_month.show()"
   ]
  },
  {
   "cell_type": "markdown",
   "metadata": {},
   "source": [
    "### Top 10 - Cidades com mais eventos"
   ]
  },
  {
   "cell_type": "code",
   "execution_count": null,
   "metadata": {},
   "outputs": [],
   "source": [
    "top_10_cities = sql.sql(\"select * from (select count(0) total, city, regexp_replace(state,'State of ','') state_name, category_name from events where country = 'Brazil' and city is not null and category_name is not null and category_name not like 'Acidente' group by city, state_name, category_name) order by total desc\")\n",
    "top_10_cities.show()"
   ]
  },
  {
   "cell_type": "markdown",
   "metadata": {},
   "source": [
    "### Mapa Interativo - Latitude Longitude"
   ]
  },
  {
   "cell_type": "code",
   "execution_count": null,
   "metadata": {},
   "outputs": [],
   "source": [
    "event_map = sql.sql(\"select from_unixtime(timestamp_ms/1000,'yyyy-MM-dd HH:mm') event_time, latitude, longitude, category_name from events where country = 'Brazil' and latitude is not null and longitude is not null and category_name is not null and category_name not like 'Acidente' and from_unixtime(timestamp_ms/1000,'yyyy-MM-dd') = '2017-12-29' order by timestamp_ms\")\n",
    "event_map.show()"
   ]
  },
  {
   "cell_type": "code",
   "execution_count": 3,
   "metadata": {},
   "outputs": [
    {
     "name": "stdout",
     "output_type": "stream",
     "text": [
      "+------------+------------+\n",
      "|       label|       value|\n",
      "+------------+------------+\n",
      "|    Arrastão|    Arrastão|\n",
      "|     Assalto|     Assalto|\n",
      "|Manifestação|Manifestação|\n",
      "|       Morte|       Morte|\n",
      "|       Roubo|       Roubo|\n",
      "|    Tiroteio|    Tiroteio|\n",
      "+------------+------------+\n",
      "\n"
     ]
    }
   ],
   "source": [
    "sql.sql(\"select category_name as label, category_name as value from events where category_name is not null group by category_name order by category_name\").show()"
   ]
  },
  {
   "cell_type": "code",
   "execution_count": null,
   "metadata": {},
   "outputs": [],
   "source": []
  }
 ],
 "metadata": {
  "kernelspec": {
   "display_name": "Python 3",
   "language": "python",
   "name": "python3"
  },
  "language_info": {
   "codemirror_mode": {
    "name": "ipython",
    "version": 3
   },
   "file_extension": ".py",
   "mimetype": "text/x-python",
   "name": "python",
   "nbconvert_exporter": "python",
   "pygments_lexer": "ipython3",
   "version": "3.6.3"
  }
 },
 "nbformat": 4,
 "nbformat_minor": 2
}
